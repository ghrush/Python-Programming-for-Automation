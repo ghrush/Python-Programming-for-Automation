{
 "cells": [
  {
   "cell_type": "code",
   "execution_count": 1,
   "metadata": {},
   "outputs": [],
   "source": [
    "#Import the required modules.\n",
    "from selenium import webdriver"
   ]
  },
  {
   "cell_type": "code",
   "execution_count": 68,
   "metadata": {},
   "outputs": [],
   "source": [
    "#Open a browser.\n",
    "browser = webdriver.Firefox()"
   ]
  },
  {
   "cell_type": "code",
   "execution_count": 69,
   "metadata": {},
   "outputs": [],
   "source": [
    "#Open the browser to the target webpage...the BBC.\n",
    "browser.get('https://www.bbc.co.uk/programmes/b006qpgr/episodes/guide')"
   ]
  },
  {
   "cell_type": "code",
   "execution_count": 89,
   "metadata": {},
   "outputs": [
    {
     "name": "stdout",
     "output_type": "stream",
     "text": [
      "Episode: Elizabeth makes plans. Date: 30/09/2018\n",
      "Episode: It's judgement day for Freddie. Date: 28/09/2018\n",
      "Episode: Elizabeth makes a surprising decision Date: 27/09/2018\n",
      "Episode: It's all change for Tom. Date: 26/09/2018\n",
      "Episode: Freddie considers his options. Date: 25/09/2018\n",
      "Episode: Elizabeth fears the worst Date: 24/09/2018\n",
      "Episode: Shula attempts to bring the family together Date: 23/09/2018\n",
      "Episode: Freddie contemplates his future. Date: 21/09/2018\n",
      "Episode: Emma finds herself impressed. Date: 20/09/2018\n",
      "Episode: Johnny offers some home truths. Date: 19/09/2018\n",
      "Episode: Brian's plotting continues. Date: 18/09/2018\n",
      "Episode: Pip's gesture is rejected. Date: 17/09/2018\n",
      "Episode: Elizabeth breaks down. Date: 16/09/2018\n",
      "Episode: Elizabeth makes a desperate plea. Date: 14/09/2018\n",
      "Episode: Tony reaches a decision. Date: 13/09/2018\n",
      "Episode: Phoebe expresses her concerns. Date: 12/09/2018\n",
      "Episode: Jim digs himself a hole. Date: 11/09/2018\n",
      "Episode: Emma hatches a plan to help the family. Date: 10/09/2018\n",
      "Episode: Freddie stands accused and Tracy pushes her luck. Date: 09/09/2018\n",
      "Episode: Lily fears the worst. Date: 07/09/2018\n",
      "Episode: Will attempts to let go. Date: 06/09/2018\n",
      "Episode: Kenton is left horrified. Date: 05/09/2018\n",
      "Episode: Jazzer digs for dirt. Date: 04/09/2018\n",
      "Episode: Fallon loses her temper. Date: 03/09/2018\n",
      "Episode: There's yet another shock for Elizabeth. Date: 02/09/2018\n",
      "Episode: Things go from bad to worse for Elizabeth. Date: 31/08/2018\n",
      "Episode: Jazzer steps up. Date: 30/08/2018\n",
      "Episode: Oliver takes the stand. Date: 29/08/2018\n",
      "Episode: Susan has a confession to make. Date: 28/08/2018\n",
      "Episode: The stress builds for Helen. Date: 27/08/2018\n"
     ]
    }
   ],
   "source": [
    "#Check for errors when retrieving episode dates.\n",
    "try:\n",
    "    #Get the list of programs.\n",
    "    progEpisodes = browser.find_elements_by_class_name('programme__body')    \n",
    "    \n",
    "    #Print the list of episodes.\n",
    "    for episodes in progEpisodes:\n",
    "        #episodes.text[1]\n",
    "        format_string = \"Episode: \" + episodes.text[11:len(episodes.text)] + \" Date: \" + episodes.text[0:10]\n",
    "        print(format_string)\n",
    "except:\n",
    "    print('Unable to retrieve list of episodes.')"
   ]
  }
 ],
 "metadata": {
  "kernelspec": {
   "display_name": "Python 3",
   "language": "python",
   "name": "python3"
  },
  "language_info": {
   "codemirror_mode": {
    "name": "ipython",
    "version": 3
   },
   "file_extension": ".py",
   "mimetype": "text/x-python",
   "name": "python",
   "nbconvert_exporter": "python",
   "pygments_lexer": "ipython3",
   "version": "3.7.3"
  }
 },
 "nbformat": 4,
 "nbformat_minor": 2
}
