{
 "cells": [
  {
   "cell_type": "code",
   "execution_count": 24,
   "metadata": {},
   "outputs": [],
   "source": [
    "#Import necessary module(s):\n",
    "import requests, bs4"
   ]
  },
  {
   "cell_type": "code",
   "execution_count": 46,
   "metadata": {},
   "outputs": [],
   "source": [
    "#Retrieve HTML text from the target URL and store in a string.\n",
    "#res = requests.get('https://nostarch.com/')\n",
    "res = requests.get('https://www.kfcu.org/')"
   ]
  },
  {
   "cell_type": "raw",
   "metadata": {},
   "source": [
    "#Check for errors.\n",
    "res.raise_for_status()"
   ]
  },
  {
   "cell_type": "code",
   "execution_count": 47,
   "metadata": {},
   "outputs": [],
   "source": [
    "#Parse the HTML data and save as a BeautifulSoup object.\n",
    "noStarchSoup = bs4.BeautifulSoup(res.text)"
   ]
  },
  {
   "cell_type": "code",
   "execution_count": 48,
   "metadata": {},
   "outputs": [
    {
     "data": {
      "text/plain": [
       "bs4.BeautifulSoup"
      ]
     },
     "execution_count": 48,
     "metadata": {},
     "output_type": "execute_result"
    }
   ],
   "source": [
    "#Verify the object is of type BeautifulSoup.\n",
    "type(noStarchSoup)"
   ]
  },
  {
   "cell_type": "code",
   "execution_count": 70,
   "metadata": {},
   "outputs": [],
   "source": [
    "#Pull a list of all the elements with the specified id.\n",
    "elems = noStarchSoup.select('#menu-header-utility-menu')"
   ]
  },
  {
   "cell_type": "code",
   "execution_count": 71,
   "metadata": {},
   "outputs": [
    {
     "data": {
      "text/plain": [
       "1"
      ]
     },
     "execution_count": 71,
     "metadata": {},
     "output_type": "execute_result"
    }
   ],
   "source": [
    "#Get the count of elements in the list.\n",
    "len(elems)"
   ]
  },
  {
   "cell_type": "code",
   "execution_count": 72,
   "metadata": {},
   "outputs": [
    {
     "data": {
      "text/plain": [
       "'Make AppointmentBranches & ATMsRatesApply NowHelpPay Loan \\n\\n\\nWhat can we help you find?\\n\\n\\nSearch for:\\n\\n\\n\\n \\n\\n\\n\\nLogin\\n\\n\\n\\n\\n\\t\\tOnline Banking Login\\n\\t\\n\\n\\n\\t\\t\\tUsername:\\n\\t\\t\\n\\n\\n\\t\\t\\tPassword:\\n\\t\\t\\n\\nLogin\\n\\n\\n\\n\\t\\t\\tUsername:\\n\\t\\t\\n\\n\\n\\t\\t\\tPassword:\\n\\t\\t\\n\\nLogin\\n\\n\\n\\nForgot password?Forgot username?\\n\\n\\n\\tNew User? Sign Up Now\\n\\n\\n\\n\\n\\n\\n\\n\\n          New Financial Wellness tool coming soon!        \\n\\nKeep track of your spending with the new Financial Wellness widget, launching soon. Your transactions will be automatically labeled with categories such as groceries, clothing, shopping, etc., and you will be able to see where you spend in an\\neasy-to-read chart.\\n\\n\\n \\n\\n\\n'"
      ]
     },
     "execution_count": 72,
     "metadata": {},
     "output_type": "execute_result"
    }
   ],
   "source": [
    "#Get the text held in the target element.\n",
    "elems[0].getText()"
   ]
  },
  {
   "cell_type": "code",
   "execution_count": 73,
   "metadata": {},
   "outputs": [],
   "source": [
    "#Pull the first element with a 'span' tag.\n",
    "elems2 = noStarchSoup.select('span')[0]"
   ]
  },
  {
   "cell_type": "code",
   "execution_count": 74,
   "metadata": {},
   "outputs": [
    {
     "data": {
      "text/plain": [
       "'<span class=\"popup-description\">Keesler Federal Mobile Banking<br/></span>'"
      ]
     },
     "execution_count": 74,
     "metadata": {},
     "output_type": "execute_result"
    }
   ],
   "source": [
    "#View the entire string returned.\n",
    "str(elems2)"
   ]
  },
  {
   "cell_type": "code",
   "execution_count": 76,
   "metadata": {},
   "outputs": [
    {
     "data": {
      "text/plain": [
       "['popup-description']"
      ]
     },
     "execution_count": 76,
     "metadata": {},
     "output_type": "execute_result"
    }
   ],
   "source": [
    "#Get the name of the class.\n",
    "elems2.get('class')"
   ]
  }
 ],
 "metadata": {
  "kernelspec": {
   "display_name": "Python 3",
   "language": "python",
   "name": "python3"
  },
  "language_info": {
   "codemirror_mode": {
    "name": "ipython",
    "version": 3
   },
   "file_extension": ".py",
   "mimetype": "text/x-python",
   "name": "python",
   "nbconvert_exporter": "python",
   "pygments_lexer": "ipython3",
   "version": "3.7.3"
  }
 },
 "nbformat": 4,
 "nbformat_minor": 2
}
