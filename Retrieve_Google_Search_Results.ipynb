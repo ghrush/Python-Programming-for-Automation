{
 "cells": [
  {
   "cell_type": "code",
   "execution_count": 156,
   "metadata": {},
   "outputs": [],
   "source": [
    "#Import the required modules.\n",
    "import webbrowser\n",
    "from selenium import webdriver"
   ]
  },
  {
   "cell_type": "code",
   "execution_count": 157,
   "metadata": {},
   "outputs": [],
   "source": [
    "#Open a browser.\n",
    "browser = webdriver.Firefox()"
   ]
  },
  {
   "cell_type": "code",
   "execution_count": 158,
   "metadata": {},
   "outputs": [],
   "source": [
    "#Open the browser to the target Google search page.\n",
    "browser.get('https://www.google.co.uk/search?q=money')"
   ]
  },
  {
   "cell_type": "code",
   "execution_count": 159,
   "metadata": {},
   "outputs": [],
   "source": [
    "#Get the list of links returned from your google search.\n",
    "linkLists = browser.find_elements_by_css_selector('div.r>a')"
   ]
  },
  {
   "cell_type": "code",
   "execution_count": 160,
   "metadata": {},
   "outputs": [],
   "source": [
    "#Get the list of text descriptions accompanying your google links.\n",
    "googleResults = browser.find_elements_by_class_name('rc')  "
   ]
  },
  {
   "cell_type": "code",
   "execution_count": 161,
   "metadata": {},
   "outputs": [
    {
     "name": "stdout",
     "output_type": "stream",
     "text": [
      "money - Englisch-Deutsch Übersetzung | PONS\n",
      "de.pons.com › übersetzung › englisch-deutsch › money\n",
      "ˈblood mon·ey SUBST no pl. 1. blood money abw (payment for killing):.\n",
      "\n",
      "money :: Englisch-Deutsch-Übersetzung - dict.cc Wörterbuch\n",
      "www.dict.cc › englisch-deutsch › money\n",
      "Englisch-Deutsch-Übersetzungen für money im Online-Wörterbuch dict.cc (Deutschwörterbuch).\n",
      "\n",
      "Money (Lied) – Wikipedia\n",
      "de.wikipedia.org › wiki › Money_(Lied)\n",
      "Money ist ein Song der britischen Rockband Pink Floyd. Er wurde von Roger Waters geschrieben und erschien 1973 auf dem Album The Dark Side of the Moon.\n",
      "Text: Roger Waters\n",
      "Album: The Dark Side of the Moon\n",
      "Musik: Roger Waters\n",
      "Genre(s): Progressive Rock\n",
      "\n",
      "money – Wiktionary\n",
      "de.wiktionary.org › wiki › money\n",
      "money (US-amerikanisch), Plural: —. Bedeutungen: [1] das Geld, (umgangssprachlich) der Schotter. Sinnverwandte Wörter: [1] currency. Unterbegriffe: [1] coin ...\n",
      "\n",
      "Money Official Site - Finance News & Advice Since 1972\n",
      "money.com\n",
      "Diese Seite übersetzen\n",
      "Personal finance news and advice from Money.com. Saving, spending, investing, retirement, careers, real estate, freebies, deals, tech, and healthcare.\n",
      "\n",
      "money | definition im Learner&apos;s Dictionary - Cambridge ...\n",
      "dictionary.cambridge.org › worterbuch › learner-englisch\n",
      "money — Definition, Audio-Aussprache und mehr für money: the coins or banknotes (= pieces of paper with values) that are used to buy things: : Sehen Sie ...\n",
      "\n",
      "Money: Die 7 einfachen Schritte zur finanziellen Freiheit ...\n",
      "www.amazon.de › Money-einfachen-Schritte-finanziell...\n",
      "Money: Die 7 einfachen Schritte zur finanziellen Freiheit | Robbins, Tony | ISBN: 9783898799140 | Kostenloser Versand für alle Bücher mit Versand und Verkauf ...\n",
      "\n",
      "Self-Driving Money Is Coming For Consumer Fintech - Forbes\n",
      "www.forbes.com › 2020/07/21 › s...\n",
      "Diese Seite übersetzen\n",
      "vor 2 Tagen - ... we need to view these platforms as the fundamental building blocks for autonomous finance, which will reshape how we interact with money.\n",
      "\n"
     ]
    }
   ],
   "source": [
    "#Cycle through the list of link descriptions. <<This section can be removed.>>\n",
    "for gResults in googleResults:\n",
    "    #Check for empty links.\n",
    "    if gResults.text:\n",
    "        #Format data...a newline after each link.\n",
    "        format_string = gResults.text[0:len(gResults.text)] + \"\\n\"\n",
    "        #Display results.\n",
    "        print(format_string)"
   ]
  },
  {
   "cell_type": "code",
   "execution_count": 162,
   "metadata": {},
   "outputs": [
    {
     "name": "stdout",
     "output_type": "stream",
     "text": [
      "https://de.pons.com/%C3%BCbersetzung/englisch-deutsch/money\n",
      "https://www.dict.cc/englisch-deutsch/money.html\n",
      "https://de.wikipedia.org/wiki/Money_(Lied)\n",
      "https://de.wiktionary.org/wiki/money\n",
      "https://money.com/\n",
      "https://dictionary.cambridge.org/de/worterbuch/learner-englisch/money\n",
      "https://www.amazon.de/Money-einfachen-Schritte-finanziellen-Freiheit/dp/389879914X\n",
      "https://www.forbes.com/sites/nikmilanovic/2020/07/21/self-driving-money-is-coming-for-consumer-fintech/\n"
     ]
    }
   ],
   "source": [
    "#Cycle through the list of links.\n",
    "for oneLink in linkLists:\n",
    "    print(oneLink.get_attribute('href'))\n",
    "    #Open each link in a new browser window/tab.\n",
    "    webbrowser.open(oneLink.get_attribute('href'))"
   ]
  },
  {
   "cell_type": "code",
   "execution_count": null,
   "metadata": {},
   "outputs": [],
   "source": []
  }
 ],
 "metadata": {
  "kernelspec": {
   "display_name": "Python 3",
   "language": "python",
   "name": "python3"
  },
  "language_info": {
   "codemirror_mode": {
    "name": "ipython",
    "version": 3
   },
   "file_extension": ".py",
   "mimetype": "text/x-python",
   "name": "python",
   "nbconvert_exporter": "python",
   "pygments_lexer": "ipython3",
   "version": "3.7.3"
  }
 },
 "nbformat": 4,
 "nbformat_minor": 2
}
